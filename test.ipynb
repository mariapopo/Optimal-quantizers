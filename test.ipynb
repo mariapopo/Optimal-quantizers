{
 "cells": [
  {
   "cell_type": "code",
   "execution_count": 1,
   "id": "35978b23",
   "metadata": {},
   "outputs": [],
   "source": [
    "#!/usr/bin/env python3\n",
    "# -*- coding: utf-8 -*-\n",
    "\n",
    "\"\"\"\n",
    "Created on Tue Mar 14 14:47:58 2023\n",
    "\n",
    "@author: mariapopovic\n",
    "\"\"\"\n",
    "\n",
    "from numpy import array, exp, append, linspace, log, average, around, arange, sqrt, random, inf\n",
    "import matplotlib.pyplot as plt\n",
    "from scipy.optimize import fsolve\n",
    "from math import erf, pi, erfc\n",
    "from scipy.special import erfinv\n",
    "from scipy.stats import norm\n",
    "from statistics import mean, stdev\n",
    "from sklearn.metrics import mean_absolute_error"
   ]
  },
  {
   "cell_type": "code",
   "execution_count": 2,
   "id": "53f89dad",
   "metadata": {},
   "outputs": [],
   "source": [
    "## TEST: Uneven level optimal quantizer\n",
    "alpha_list = []\n",
    "knots_linear_optimal = []\n",
    "cell_bounds_linear_optimal = []\n",
    "cdf_linear_optimal = []\n",
    "probabilities_linear_optimal = []\n",
    "\n",
    "n = 1 # Level 3 = 2*n + 1\n",
    "\n",
    "\n",
    "def equations_optimal_linear(alpha):\n",
    "        \n",
    "        \n",
    "    def first_integral(n,j,alpha):\n",
    "    \n",
    "        term1 = -(exp(-(((2*j-1)**2)*(alpha**2))/(8*(n**2))) - exp(-(((1+2*j)**2)*(alpha**2))/(8*(n**2))))*(j/sqrt(2*pi))\n",
    "    \n",
    "        term2 = ((j**2)*alpha/(2*n))*(-erf(((j-0.5)*alpha)/(sqrt(2)*n)) + erf(((j+0.5)*alpha)/(sqrt(2)*n)))\n",
    "\n",
    "        return term1 + term2\n",
    "\n",
    "    def second_integral(n,alpha):\n",
    "    \n",
    "        term1 = -(exp(-(((2*n-1)**2)*(alpha**2))/(8*(n**2)))*n)/sqrt(2*pi)\n",
    "    \n",
    "        term2 = (1/2)*n*alpha*erfc(((2*n-1)*alpha)/(2*sqrt(2)*n))\n",
    "    \n",
    "        return term1 + term2\n",
    "\n",
    "    def first_integral_sum(n,alpha):\n",
    "    \n",
    "        sum_index = 0\n",
    "        j = 1\n",
    "    \n",
    "        while j < n:\n",
    "            sum_index = sum_index + first_integral(n,j,alpha)\n",
    "            j = j + 1\n",
    "    \n",
    "        return sum_index\n",
    "\n",
    "    return first_integral_sum(n,alpha) + second_integral(n,alpha)\n",
    "    \n",
    "a = fsolve(equations_optimal_linear,1)\n",
    "alpha_list.append(a)\n",
    "\n",
    "\n",
    "h = a/n\n",
    "j = -1\n",
    "while j <= n:\n",
    "    knots_linear_optimal.append( h*j)\n",
    "    j= j + 1"
   ]
  },
  {
   "cell_type": "code",
   "execution_count": 3,
   "id": "70bcf39f",
   "metadata": {},
   "outputs": [
    {
     "data": {
      "text/plain": [
       "[array([1.22400636])]"
      ]
     },
     "execution_count": 3,
     "metadata": {},
     "output_type": "execute_result"
    }
   ],
   "source": [
    "alpha_list"
   ]
  },
  {
   "cell_type": "code",
   "execution_count": 4,
   "id": "3eb22e32",
   "metadata": {},
   "outputs": [
    {
     "data": {
      "text/plain": [
       "[array([-1.22400636]), array([0.]), array([1.22400636])]"
      ]
     },
     "execution_count": 4,
     "metadata": {},
     "output_type": "execute_result"
    }
   ],
   "source": [
    "knots_linear_optimal"
   ]
  },
  {
   "cell_type": "code",
   "execution_count": null,
   "id": "1a254df3",
   "metadata": {},
   "outputs": [],
   "source": []
  }
 ],
 "metadata": {
  "kernelspec": {
   "display_name": "Python 3 (ipykernel)",
   "language": "python",
   "name": "python3"
  },
  "language_info": {
   "codemirror_mode": {
    "name": "ipython",
    "version": 3
   },
   "file_extension": ".py",
   "mimetype": "text/x-python",
   "name": "python",
   "nbconvert_exporter": "python",
   "pygments_lexer": "ipython3",
   "version": "3.9.13"
  }
 },
 "nbformat": 4,
 "nbformat_minor": 5
}
